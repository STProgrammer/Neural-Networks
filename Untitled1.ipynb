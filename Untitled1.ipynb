{
 "cells": [
  {
   "cell_type": "code",
   "execution_count": 22,
   "id": "4d8886e4-301d-4b14-9425-8862e9c58d04",
   "metadata": {},
   "outputs": [],
   "source": [
    "import numpy as np"
   ]
  },
  {
   "cell_type": "code",
   "execution_count": 27,
   "id": "10744b6d-514b-4aec-85d3-9a6f17714689",
   "metadata": {},
   "outputs": [
    {
     "name": "stdout",
     "output_type": "stream",
     "text": [
      "796 µs ± 16.9 µs per loop (mean ± std. dev. of 7 runs, 1000 loops each)\n"
     ]
    }
   ],
   "source": [
    "%%timeit\n",
    "n = 10000\n",
    "\n",
    "array = np.zeros(n)\n",
    "\n",
    "for i in range(n):\n",
    "    array[i] = i\n",
    "\n",
    "#print(array)"
   ]
  },
  {
   "cell_type": "code",
   "execution_count": 28,
   "id": "9c67e2d9-43ee-463e-9807-1bbeb5b1a9f0",
   "metadata": {},
   "outputs": [
    {
     "name": "stdout",
     "output_type": "stream",
     "text": [
      "601 µs ± 14.1 µs per loop (mean ± std. dev. of 7 runs, 1000 loops each)\n"
     ]
    }
   ],
   "source": [
    "%%timeit\n",
    "n = 10000\n",
    "\n",
    "array = list()\n",
    "\n",
    "for i in range(n):\n",
    "    array.append(i)\n",
    "\n",
    "#print(array)"
   ]
  },
  {
   "cell_type": "code",
   "execution_count": null,
   "id": "e5386541-85e9-402c-b728-8fa4f8ede2b8",
   "metadata": {},
   "outputs": [],
   "source": []
  }
 ],
 "metadata": {
  "kernelspec": {
   "display_name": "Python 3",
   "language": "python",
   "name": "python3"
  },
  "language_info": {
   "codemirror_mode": {
    "name": "ipython",
    "version": 3
   },
   "file_extension": ".py",
   "mimetype": "text/x-python",
   "name": "python",
   "nbconvert_exporter": "python",
   "pygments_lexer": "ipython3",
   "version": "3.8.3"
  }
 },
 "nbformat": 4,
 "nbformat_minor": 5
}
